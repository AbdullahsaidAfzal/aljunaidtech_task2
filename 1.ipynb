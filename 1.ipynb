{
 "cells": [
  {
   "cell_type": "code",
   "execution_count": null,
   "metadata": {},
   "outputs": [
    {
     "data": {
      "text/plain": [
       "{'1234567890': ('Python', 'Junaid Malik', 1000, {'Programming', 'coding'}), '9876543210': ('PHP', 'Junaid Malik', 2000, {'Developing', 'Coding'})}\n"
      ]
     },
     "metadata": {},
     "output_type": "display_data"
    }
   ],
   "source": [
    "#Task1 part 1\n",
    "# 1. Create an empty dictionary\n",
    "store_book = {}\n",
    "\n",
    "# 2. Adding a book to the dictionary\n",
    "store_book[\"1234567890\"] = (\"Python\", \"Junaid Malik\", 1000,{\"coding\", \"Programming\"})\n",
    "store_book[\"9876543210\"] = (\"PHP\", \"Junaid Malik\", 2000, {\"Developing\", \"Coding\"})\n",
    "\n",
    "# 3. Print the dictionary to verify\n",
    "print(store_book)\n",
    "\n"
   ]
  },
  {
   "cell_type": "code",
   "execution_count": null,
   "metadata": {},
   "outputs": [
    {
     "data": {
      "text/plain": [
       "[]\n"
      ]
     },
     "metadata": {},
     "output_type": "display_data"
    }
   ],
   "source": [
    "#Task1 Part2\n",
    "def search_by_author(author):\n",
    "    result = [(isbn, details[0]) for isbn, details in store_book.items() if details[1].lower() == author.lower()]\n",
    "    return result\n",
    "\n",
    "# Return list of tuples\n",
    "search_results = search_by_author(\"Abdullah\")\n",
    "print(search_results)\n"
   ]
  },
  {
   "cell_type": "code",
   "execution_count": null,
   "metadata": {},
   "outputs": [
    {
     "data": {
      "text/plain": [
       "Price updated for ISBN 9876543210 to $30.99\n",
       "Price updated for ISBN 1234567890 to $19.99\n"
      ]
     },
     "metadata": {},
     "output_type": "display_data"
    }
   ],
   "source": [
    "#Task 1 Part 3\n",
    "def update_price(isbn, new_price):\n",
    "    if isbn in store_book:\n",
    "        title, author, _, genres = store_book[isbn]  # Unpack existing values\n",
    "        store_book[isbn] = (title, author, new_price, genres)  # Create new tuple with updated price\n",
    "        return f\"Price updated for ISBN {isbn} to ${new_price:.2f}\"\n",
    "    else:\n",
    "        return f\"ISBN {isbn} not found in Store book.\"\n",
    "\n",
    "# Example Usage\n",
    "print(update_price(\"9876543210\", 30.99))\n",
    "print(update_price(\"1234567890\", 19.99))\n"
   ]
  },
  {
   "cell_type": "code",
   "execution_count": null,
   "metadata": {},
   "outputs": [],
   "source": [
    "#Task 1 Part 4\n",
    "def standardize_genres():\n",
    "    for isbn, details in store_book.items():\n",
    "        title, author, price, genres = details\n",
    "        cleaned_genres = [genre.strip().lower() for genre in genres]  # Clean each genre\n",
    "        store_book[isbn] = (title, author, price, cleaned_genres)  # Update tuple\n",
    "\n",
    "# Example Usage\n",
    "standardize_genres()\n"
   ]
  },
  {
   "cell_type": "code",
   "execution_count": null,
   "metadata": {},
   "outputs": [
    {
     "data": {
      "text/plain": [
       "ISBN                 Title                               Author                    Price      Genres\n",
       "----------------------------------------------------------------------------------------------------\n",
       "1234567890      Python                                   Junaid Malik              $19.99      programming, coding\n",
       "9876543210      PHP                                      Junaid Malik              $30.99      developing, coding\n"
      ]
     },
     "metadata": {},
     "output_type": "display_data"
    }
   ],
   "source": [
    "#Task 1 Part 5\n",
    "def display_store_book():\n",
    "    print(f\"{'ISBN':<20} {'Title':<35} {'Author':<25} {'Price':<10} {'Genres'}\")  # Manually Set table format\n",
    "    print(\"-\" * 100)\n",
    "\n",
    "    for isbn, (title, author, price, genres) in store_book.items():\n",
    "        genres_str = \", \".join(genres)  # Convert genres set to a string\n",
    "        print(f\"{isbn:<15} {title:<40} {author:<25} ${price:<10.2f} {genres_str}\")\n",
    "\n",
    "display_store_book()\n"
   ]
  },
  {
   "cell_type": "code",
   "execution_count": null,
   "metadata": {},
   "outputs": [
    {
     "data": {
      "text/plain": [
       "['PHP', 'Python']\n"
      ]
     },
     "metadata": {},
     "output_type": "display_data"
    }
   ],
   "source": [
    "#Task 1 Part 6\n",
    "def list_all_books():\n",
    "    return sorted([details[0] for details in store_book.values()])  # Extract titles & sort\n",
    "\n",
    "# Example Usage\n",
    "print(list_all_books())  # List of book titles in alphabetical order\n"
   ]
  }
 ],
 "metadata": {
  "language_info": {
   "name": "python"
  }
 },
 "nbformat": 4,
 "nbformat_minor": 2
}
